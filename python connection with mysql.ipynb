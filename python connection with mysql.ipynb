{
 "cells": [
  {
   "cell_type": "code",
   "execution_count": 3,
   "id": "a2e32ada-6bdd-43d9-bfaf-29131296b7fe",
   "metadata": {},
   "outputs": [
    {
     "name": "stdout",
     "output_type": "stream",
     "text": [
      "Requirement already satisfied: mysql-connector-python in c:\\users\\asus\\appdata\\local\\programs\\python\\python313\\lib\\site-packages (9.3.0)\n"
     ]
    }
   ],
   "source": [
    "!pip install mysql-connector-python\n"
   ]
  },
  {
   "cell_type": "code",
   "execution_count": null,
   "id": "c742314b-3552-4e48-96db-23240d964411",
   "metadata": {},
   "outputs": [],
   "source": [
    "## steps required:\n",
    "1. make a connection        ------ create a connector object \n",
    "2. create a cursor          ------ create a cursor object \n",
    "3. running the queries using execute "
   ]
  },
  {
   "cell_type": "code",
   "execution_count": 5,
   "id": "5d58b643-0531-403f-8b77-4b5a99cbdad6",
   "metadata": {},
   "outputs": [],
   "source": [
    "import mysql.connector"
   ]
  },
  {
   "cell_type": "code",
   "execution_count": 11,
   "id": "8f941f6c-56f4-4325-a58e-065b534eccef",
   "metadata": {},
   "outputs": [],
   "source": [
    "\n",
    "# Make connection\n",
    "mydb = mysql.connector.connect(\n",
    "    host=\"localhost\",\n",
    "    user=\"root\",\n",
    "    password=\"root\"\n",
    ")\n"
   ]
  },
  {
   "cell_type": "code",
   "execution_count": 12,
   "id": "4b601ede-be7a-4104-8374-de45ecb1d878",
   "metadata": {},
   "outputs": [],
   "source": [
    "# create a cursor object \n",
    "mycursor = mydb.cursor()"
   ]
  },
  {
   "cell_type": "code",
   "execution_count": 13,
   "id": "72f436b4-809f-4ce3-a501-3e66698818f8",
   "metadata": {},
   "outputs": [
    {
     "data": {
      "text/plain": [
       "mysql.connector.connection_cext.CMySQLConnection"
      ]
     },
     "execution_count": 13,
     "metadata": {},
     "output_type": "execute_result"
    }
   ],
   "source": [
    "type(mydb)"
   ]
  },
  {
   "cell_type": "code",
   "execution_count": 14,
   "id": "ec49e0a3-1f0b-4c8c-a0a1-a8236fcd8981",
   "metadata": {},
   "outputs": [
    {
     "data": {
      "text/plain": [
       "mysql.connector.cursor_cext.CMySQLCursor"
      ]
     },
     "execution_count": 14,
     "metadata": {},
     "output_type": "execute_result"
    }
   ],
   "source": [
    "type(mycursor)"
   ]
  },
  {
   "cell_type": "code",
   "execution_count": 15,
   "id": "bd0c2e0e-b6b6-4754-861a-3f9bff9ecf33",
   "metadata": {},
   "outputs": [],
   "source": [
    "# run commands using the execute function\n",
    "mycursor.execute('SHOW DATABASES')"
   ]
  },
  {
   "cell_type": "code",
   "execution_count": 16,
   "id": "cb33300a-be28-445e-891a-0a6d5c9768d0",
   "metadata": {},
   "outputs": [
    {
     "data": {
      "text/plain": [
       "[('child',),\n",
       " ('children',),\n",
       " ('demo',),\n",
       " ('demo1',),\n",
       " ('demo2',),\n",
       " ('information_schema',),\n",
       " ('mysql',),\n",
       " ('performance_schema',),\n",
       " ('sys',),\n",
       " ('world',)]"
      ]
     },
     "execution_count": 16,
     "metadata": {},
     "output_type": "execute_result"
    }
   ],
   "source": [
    "list(mycursor)"
   ]
  },
  {
   "cell_type": "code",
   "execution_count": 17,
   "id": "1cea7740-2efe-408e-9a7d-ac79f9c17d2e",
   "metadata": {},
   "outputs": [
    {
     "name": "stdout",
     "output_type": "stream",
     "text": [
      "('child',)\n",
      "('children',)\n",
      "('demo',)\n",
      "('demo1',)\n",
      "('demo2',)\n",
      "('information_schema',)\n",
      "('mysql',)\n",
      "('performance_schema',)\n",
      "('sys',)\n",
      "('world',)\n"
     ]
    }
   ],
   "source": [
    "mycursor.execute('SHOW DATABASES')\n",
    "for db in mycursor:\n",
    "    print(db)"
   ]
  },
  {
   "cell_type": "code",
   "execution_count": 18,
   "id": "047d4932-a4e1-499d-ab54-959a484e595a",
   "metadata": {},
   "outputs": [],
   "source": [
    "#creating a database\n",
    "mycursor.execute('CREATE DATABASE demo3')"
   ]
  },
  {
   "cell_type": "code",
   "execution_count": 19,
   "id": "14a25e78-06f7-4279-9968-074019b9ba1b",
   "metadata": {},
   "outputs": [
    {
     "name": "stdout",
     "output_type": "stream",
     "text": [
      "('child',)\n",
      "('children',)\n",
      "('demo',)\n",
      "('demo1',)\n",
      "('demo2',)\n",
      "('demo3',)\n",
      "('information_schema',)\n",
      "('mysql',)\n",
      "('performance_schema',)\n",
      "('sys',)\n",
      "('world',)\n"
     ]
    }
   ],
   "source": [
    "mycursor.execute('SHOW DATABASES')\n",
    "for db in mycursor:\n",
    "    print(db)"
   ]
  },
  {
   "cell_type": "code",
   "execution_count": 20,
   "id": "b6bc020c-ee4c-4075-88e6-57b137691cd2",
   "metadata": {},
   "outputs": [],
   "source": [
    "#deleting a database\n",
    "mycursor.execute('DROP DATABASE demo3')\n"
   ]
  },
  {
   "cell_type": "code",
   "execution_count": 21,
   "id": "09d7bc15-75f4-4835-b14f-4b764047d4a0",
   "metadata": {},
   "outputs": [
    {
     "name": "stdout",
     "output_type": "stream",
     "text": [
      "('child',)\n",
      "('children',)\n",
      "('demo',)\n",
      "('demo1',)\n",
      "('demo2',)\n",
      "('information_schema',)\n",
      "('mysql',)\n",
      "('performance_schema',)\n",
      "('sys',)\n",
      "('world',)\n"
     ]
    }
   ],
   "source": [
    "mycursor.execute('SHOW DATABASES')\n",
    "for db in mycursor:\n",
    "    print(db)"
   ]
  },
  {
   "cell_type": "code",
   "execution_count": 25,
   "id": "383d9fd8-2454-473b-a764-f8630a21ef24",
   "metadata": {},
   "outputs": [
    {
     "ename": "MySQLInterfaceError",
     "evalue": "MySQL server has gone away",
     "output_type": "error",
     "traceback": [
      "\u001b[1;31m---------------------------------------------------------------------------\u001b[0m",
      "\u001b[1;31mMySQLInterfaceError\u001b[0m                       Traceback (most recent call last)",
      "Cell \u001b[1;32mIn[25], line 2\u001b[0m\n\u001b[0;32m      1\u001b[0m \u001b[38;5;66;03m# it will save the progress permanently \u001b[39;00m\n\u001b[1;32m----> 2\u001b[0m \u001b[43mmydb\u001b[49m\u001b[38;5;241;43m.\u001b[39;49m\u001b[43mcommit\u001b[49m\u001b[43m(\u001b[49m\u001b[43m)\u001b[49m\n",
      "File \u001b[1;32m~\\AppData\\Local\\Programs\\Python\\Python313\\Lib\\site-packages\\mysql\\connector\\connection_cext.py:605\u001b[0m, in \u001b[0;36mCMySQLConnection.commit\u001b[1;34m(self)\u001b[0m\n\u001b[0;32m    603\u001b[0m \u001b[38;5;28;01mif\u001b[39;00m \u001b[38;5;28mself\u001b[39m\u001b[38;5;241m.\u001b[39m_cmysql:\n\u001b[0;32m    604\u001b[0m     \u001b[38;5;28mself\u001b[39m\u001b[38;5;241m.\u001b[39mhandle_unread_result()\n\u001b[1;32m--> 605\u001b[0m     \u001b[38;5;28;43mself\u001b[39;49m\u001b[38;5;241;43m.\u001b[39;49m\u001b[43m_cmysql\u001b[49m\u001b[38;5;241;43m.\u001b[39;49m\u001b[43mcommit\u001b[49m\u001b[43m(\u001b[49m\u001b[43m)\u001b[49m\n",
      "\u001b[1;31mMySQLInterfaceError\u001b[0m: MySQL server has gone away"
     ]
    }
   ],
   "source": [
    "# it will save the progress permanently \n",
    "mydb.commit()"
   ]
  },
  {
   "cell_type": "code",
   "execution_count": 24,
   "id": "987e6b28-c2b2-4130-be50-c2be355a063d",
   "metadata": {},
   "outputs": [],
   "source": [
    "# it will close the connection\n",
    "mydb.close()"
   ]
  },
  {
   "cell_type": "code",
   "execution_count": 26,
   "id": "a566bfe6-0c6f-4f22-bcdc-375419e3dc22",
   "metadata": {},
   "outputs": [],
   "source": [
    "# till now we only connected to the mysql environment that is the local host to work with database we need to connect to the database "
   ]
  },
  {
   "cell_type": "code",
   "execution_count": 27,
   "id": "3a502141-401f-41dd-960d-0304c37ff104",
   "metadata": {},
   "outputs": [],
   "source": [
    "## Connecting with a database\n",
    "#to make connection to the database we need to mention that particular database name\n"
   ]
  },
  {
   "cell_type": "code",
   "execution_count": 28,
   "id": "1bfdda27-c745-4dd4-8ba7-1ca23f22bb21",
   "metadata": {},
   "outputs": [],
   "source": [
    "mydb = mysql.connector.connect(host = 'localhost' ,\n",
    "                               user = 'root',\n",
    "                               password = 'root',\n",
    "                               database = 'demo1')"
   ]
  },
  {
   "cell_type": "code",
   "execution_count": 29,
   "id": "9dc2738f-fe45-4ae5-8f9a-bb0a02b13715",
   "metadata": {},
   "outputs": [],
   "source": [
    "mycursor = mydb.cursor()  #creating object"
   ]
  },
  {
   "cell_type": "code",
   "execution_count": 30,
   "id": "0685d48c-0e3b-412d-91d9-3f2287c6a4a9",
   "metadata": {},
   "outputs": [
    {
     "data": {
      "text/plain": [
       "[('department',), ('employee',), ('employee2',)]"
      ]
     },
     "execution_count": 30,
     "metadata": {},
     "output_type": "execute_result"
    }
   ],
   "source": [
    "mycursor.execute('SHOW TABLES')\n",
    "list(mycursor)"
   ]
  },
  {
   "cell_type": "code",
   "execution_count": 31,
   "id": "7186d6eb-80a8-4b29-98bc-7970a044f4f3",
   "metadata": {},
   "outputs": [],
   "source": [
    "mycursor.execute('DROP TABLE employee')"
   ]
  },
  {
   "cell_type": "code",
   "execution_count": 32,
   "id": "257ff4cb-6f26-4108-a51c-cbbbd440984a",
   "metadata": {},
   "outputs": [
    {
     "data": {
      "text/plain": [
       "[('department',), ('employee2',)]"
      ]
     },
     "execution_count": 32,
     "metadata": {},
     "output_type": "execute_result"
    }
   ],
   "source": [
    "mycursor.execute('SHOW TABLES')\n",
    "list(mycursor)"
   ]
  },
  {
   "cell_type": "code",
   "execution_count": 37,
   "id": "09f7ce92-a84b-45c6-9d15-83144750c261",
   "metadata": {},
   "outputs": [],
   "source": [
    "mycursor.execute('CREATE TABLE student(stdid INT PRIMARY KEY, name VARCHAR(50), age INT, city VARCHAR(50))')\n"
   ]
  },
  {
   "cell_type": "code",
   "execution_count": 38,
   "id": "9e43bfd4-416b-4a2e-be44-2c6b4c4c03de",
   "metadata": {},
   "outputs": [
    {
     "data": {
      "text/plain": [
       "[('department',), ('employee2',), ('student',)]"
      ]
     },
     "execution_count": 38,
     "metadata": {},
     "output_type": "execute_result"
    }
   ],
   "source": [
    "mycursor.execute('SHOW TABLES')\n",
    "list(mycursor)"
   ]
  },
  {
   "cell_type": "code",
   "execution_count": 41,
   "id": "611abf87-b048-47bd-a71c-af119b2db47b",
   "metadata": {},
   "outputs": [
    {
     "ename": "ProgrammingError",
     "evalue": "1050 (42S01): Table 'students' already exists",
     "output_type": "error",
     "traceback": [
      "\u001b[1;31m---------------------------------------------------------------------------\u001b[0m",
      "\u001b[1;31mMySQLInterfaceError\u001b[0m                       Traceback (most recent call last)",
      "File \u001b[1;32m~\\AppData\\Local\\Programs\\Python\\Python313\\Lib\\site-packages\\mysql\\connector\\connection_cext.py:772\u001b[0m, in \u001b[0;36mCMySQLConnection.cmd_query\u001b[1;34m(self, query, raw, buffered, raw_as_string, **kwargs)\u001b[0m\n\u001b[0;32m    770\u001b[0m     \u001b[38;5;28mself\u001b[39m\u001b[38;5;241m.\u001b[39m_local_infile_filenames \u001b[38;5;241m=\u001b[39m \u001b[38;5;28;01mNone\u001b[39;00m\n\u001b[1;32m--> 772\u001b[0m     \u001b[38;5;28;43mself\u001b[39;49m\u001b[38;5;241;43m.\u001b[39;49m\u001b[43m_cmysql\u001b[49m\u001b[38;5;241;43m.\u001b[39;49m\u001b[43mquery\u001b[49m\u001b[43m(\u001b[49m\n\u001b[0;32m    773\u001b[0m \u001b[43m        \u001b[49m\u001b[43mquery\u001b[49m\u001b[43m,\u001b[49m\n\u001b[0;32m    774\u001b[0m \u001b[43m        \u001b[49m\u001b[43mraw\u001b[49m\u001b[38;5;241;43m=\u001b[39;49m\u001b[43mraw\u001b[49m\u001b[43m,\u001b[49m\n\u001b[0;32m    775\u001b[0m \u001b[43m        \u001b[49m\u001b[43mbuffered\u001b[49m\u001b[38;5;241;43m=\u001b[39;49m\u001b[43mbuffered\u001b[49m\u001b[43m,\u001b[49m\n\u001b[0;32m    776\u001b[0m \u001b[43m        \u001b[49m\u001b[43mraw_as_string\u001b[49m\u001b[38;5;241;43m=\u001b[39;49m\u001b[43mraw_as_string\u001b[49m\u001b[43m,\u001b[49m\n\u001b[0;32m    777\u001b[0m \u001b[43m        \u001b[49m\u001b[43mquery_attrs\u001b[49m\u001b[38;5;241;43m=\u001b[39;49m\u001b[38;5;28;43mself\u001b[39;49m\u001b[38;5;241;43m.\u001b[39;49m\u001b[43mquery_attrs\u001b[49m\u001b[43m,\u001b[49m\n\u001b[0;32m    778\u001b[0m \u001b[43m    \u001b[49m\u001b[43m)\u001b[49m\n\u001b[0;32m    779\u001b[0m \u001b[38;5;28;01mexcept\u001b[39;00m MySQLInterfaceError \u001b[38;5;28;01mas\u001b[39;00m err:\n",
      "\u001b[1;31mMySQLInterfaceError\u001b[0m: Table 'students' already exists",
      "\nThe above exception was the direct cause of the following exception:\n",
      "\u001b[1;31mProgrammingError\u001b[0m                          Traceback (most recent call last)",
      "Cell \u001b[1;32mIn[41], line 5\u001b[0m\n\u001b[0;32m      1\u001b[0m query \u001b[38;5;241m=\u001b[39m \u001b[38;5;124m'''\u001b[39m\u001b[38;5;124mCREATE TABLE students(stdid INT PRIMARY KEY,\u001b[39m\n\u001b[0;32m      2\u001b[0m \u001b[38;5;124m                                    name VARCHAR(50), \u001b[39m\n\u001b[0;32m      3\u001b[0m \u001b[38;5;124m                                    age INT, \u001b[39m\n\u001b[0;32m      4\u001b[0m \u001b[38;5;124m                                    city VARCHAR(50))\u001b[39m\u001b[38;5;124m'''\u001b[39m\n\u001b[1;32m----> 5\u001b[0m \u001b[43mmycursor\u001b[49m\u001b[38;5;241;43m.\u001b[39;49m\u001b[43mexecute\u001b[49m\u001b[43m(\u001b[49m\u001b[43mquery\u001b[49m\u001b[43m)\u001b[49m\n",
      "File \u001b[1;32m~\\AppData\\Local\\Programs\\Python\\Python313\\Lib\\site-packages\\mysql\\connector\\cursor_cext.py:356\u001b[0m, in \u001b[0;36mCMySQLCursor.execute\u001b[1;34m(self, operation, params, map_results)\u001b[0m\n\u001b[0;32m    348\u001b[0m \u001b[38;5;28mself\u001b[39m\u001b[38;5;241m.\u001b[39m_executed \u001b[38;5;241m=\u001b[39m (\n\u001b[0;32m    349\u001b[0m     \u001b[38;5;28mself\u001b[39m\u001b[38;5;241m.\u001b[39m_stmt_partition[\u001b[38;5;124m\"\u001b[39m\u001b[38;5;124msingle_stmts\u001b[39m\u001b[38;5;124m\"\u001b[39m]\u001b[38;5;241m.\u001b[39mpopleft()\n\u001b[0;32m    350\u001b[0m     \u001b[38;5;28;01mif\u001b[39;00m map_results\n\u001b[0;32m    351\u001b[0m     \u001b[38;5;28;01melse\u001b[39;00m \u001b[38;5;28mself\u001b[39m\u001b[38;5;241m.\u001b[39m_stmt_partition[\u001b[38;5;124m\"\u001b[39m\u001b[38;5;124mmappable_stmt\u001b[39m\u001b[38;5;124m\"\u001b[39m]\n\u001b[0;32m    352\u001b[0m )\n\u001b[0;32m    354\u001b[0m \u001b[38;5;28;01mtry\u001b[39;00m:\n\u001b[0;32m    355\u001b[0m     \u001b[38;5;28mself\u001b[39m\u001b[38;5;241m.\u001b[39m_handle_result(\n\u001b[1;32m--> 356\u001b[0m         \u001b[38;5;28;43mself\u001b[39;49m\u001b[38;5;241;43m.\u001b[39;49m\u001b[43m_connection\u001b[49m\u001b[38;5;241;43m.\u001b[39;49m\u001b[43mcmd_query\u001b[49m\u001b[43m(\u001b[49m\n\u001b[0;32m    357\u001b[0m \u001b[43m            \u001b[49m\u001b[38;5;28;43mself\u001b[39;49m\u001b[38;5;241;43m.\u001b[39;49m\u001b[43m_stmt_partition\u001b[49m\u001b[43m[\u001b[49m\u001b[38;5;124;43m\"\u001b[39;49m\u001b[38;5;124;43mmappable_stmt\u001b[39;49m\u001b[38;5;124;43m\"\u001b[39;49m\u001b[43m]\u001b[49m\u001b[43m,\u001b[49m\n\u001b[0;32m    358\u001b[0m \u001b[43m            \u001b[49m\u001b[43mraw\u001b[49m\u001b[38;5;241;43m=\u001b[39;49m\u001b[38;5;28;43mself\u001b[39;49m\u001b[38;5;241;43m.\u001b[39;49m\u001b[43m_raw\u001b[49m\u001b[43m,\u001b[49m\n\u001b[0;32m    359\u001b[0m \u001b[43m            \u001b[49m\u001b[43mbuffered\u001b[49m\u001b[38;5;241;43m=\u001b[39;49m\u001b[38;5;28;43mself\u001b[39;49m\u001b[38;5;241;43m.\u001b[39;49m\u001b[43m_buffered\u001b[49m\u001b[43m,\u001b[49m\n\u001b[0;32m    360\u001b[0m \u001b[43m            \u001b[49m\u001b[43mraw_as_string\u001b[49m\u001b[38;5;241;43m=\u001b[39;49m\u001b[38;5;28;43mself\u001b[39;49m\u001b[38;5;241;43m.\u001b[39;49m\u001b[43m_raw_as_string\u001b[49m\u001b[43m,\u001b[49m\n\u001b[0;32m    361\u001b[0m \u001b[43m        \u001b[49m\u001b[43m)\u001b[49m\n\u001b[0;32m    362\u001b[0m     )\n\u001b[0;32m    363\u001b[0m \u001b[38;5;28;01mexcept\u001b[39;00m MySQLInterfaceError \u001b[38;5;28;01mas\u001b[39;00m err:\n\u001b[0;32m    364\u001b[0m     \u001b[38;5;28;01mif\u001b[39;00m \u001b[38;5;28mhasattr\u001b[39m(err, \u001b[38;5;124m\"\u001b[39m\u001b[38;5;124merrno\u001b[39m\u001b[38;5;124m\"\u001b[39m):\n",
      "File \u001b[1;32m~\\AppData\\Local\\Programs\\Python\\Python313\\Lib\\site-packages\\mysql\\connector\\opentelemetry\\context_propagation.py:97\u001b[0m, in \u001b[0;36mwith_context_propagation.<locals>.wrapper\u001b[1;34m(cnx, *args, **kwargs)\u001b[0m\n\u001b[0;32m     95\u001b[0m \u001b[38;5;66;03m# pylint: disable=possibly-used-before-assignment\u001b[39;00m\n\u001b[0;32m     96\u001b[0m \u001b[38;5;28;01mif\u001b[39;00m \u001b[38;5;129;01mnot\u001b[39;00m OTEL_ENABLED \u001b[38;5;129;01mor\u001b[39;00m \u001b[38;5;129;01mnot\u001b[39;00m cnx\u001b[38;5;241m.\u001b[39motel_context_propagation:\n\u001b[1;32m---> 97\u001b[0m     \u001b[38;5;28;01mreturn\u001b[39;00m \u001b[43mmethod\u001b[49m\u001b[43m(\u001b[49m\u001b[43mcnx\u001b[49m\u001b[43m,\u001b[49m\u001b[43m \u001b[49m\u001b[38;5;241;43m*\u001b[39;49m\u001b[43margs\u001b[49m\u001b[43m,\u001b[49m\u001b[43m \u001b[49m\u001b[38;5;241;43m*\u001b[39;49m\u001b[38;5;241;43m*\u001b[39;49m\u001b[43mkwargs\u001b[49m\u001b[43m)\u001b[49m\n\u001b[0;32m     99\u001b[0m current_span \u001b[38;5;241m=\u001b[39m trace\u001b[38;5;241m.\u001b[39mget_current_span()\n\u001b[0;32m    100\u001b[0m tp_header \u001b[38;5;241m=\u001b[39m \u001b[38;5;28;01mNone\u001b[39;00m\n",
      "File \u001b[1;32m~\\AppData\\Local\\Programs\\Python\\Python313\\Lib\\site-packages\\mysql\\connector\\connection_cext.py:781\u001b[0m, in \u001b[0;36mCMySQLConnection.cmd_query\u001b[1;34m(self, query, raw, buffered, raw_as_string, **kwargs)\u001b[0m\n\u001b[0;32m    779\u001b[0m \u001b[38;5;28;01mexcept\u001b[39;00m MySQLInterfaceError \u001b[38;5;28;01mas\u001b[39;00m err:\n\u001b[0;32m    780\u001b[0m     \u001b[38;5;28;01mif\u001b[39;00m \u001b[38;5;28mhasattr\u001b[39m(err, \u001b[38;5;124m\"\u001b[39m\u001b[38;5;124merrno\u001b[39m\u001b[38;5;124m\"\u001b[39m):\n\u001b[1;32m--> 781\u001b[0m         \u001b[38;5;28;01mraise\u001b[39;00m get_mysql_exception(\n\u001b[0;32m    782\u001b[0m             err\u001b[38;5;241m.\u001b[39merrno, msg\u001b[38;5;241m=\u001b[39merr\u001b[38;5;241m.\u001b[39mmsg, sqlstate\u001b[38;5;241m=\u001b[39merr\u001b[38;5;241m.\u001b[39msqlstate\n\u001b[0;32m    783\u001b[0m         ) \u001b[38;5;28;01mfrom\u001b[39;00m\u001b[38;5;250m \u001b[39m\u001b[38;5;21;01merr\u001b[39;00m\n\u001b[0;32m    784\u001b[0m     \u001b[38;5;28;01mraise\u001b[39;00m InterfaceError(\u001b[38;5;28mstr\u001b[39m(err)) \u001b[38;5;28;01mfrom\u001b[39;00m\u001b[38;5;250m \u001b[39m\u001b[38;5;21;01merr\u001b[39;00m\n\u001b[0;32m    785\u001b[0m \u001b[38;5;28;01mexcept\u001b[39;00m \u001b[38;5;167;01mAttributeError\u001b[39;00m \u001b[38;5;28;01mas\u001b[39;00m err:\n",
      "\u001b[1;31mProgrammingError\u001b[0m: 1050 (42S01): Table 'students' already exists"
     ]
    }
   ],
   "source": [
    "query = '''CREATE TABLE students(stdid INT PRIMARY KEY,\n",
    "                                    name VARCHAR(50), \n",
    "                                    age INT, \n",
    "                                    city VARCHAR(50))'''\n",
    "mycursor.execute(query)\n",
    "# multiline query is always done in ''' ......'''\n",
    "#......actually we took a variable and then we stored the query for better readability and that it can be used again and agin without writing the whole line of query"
   ]
  },
  {
   "cell_type": "code",
   "execution_count": 42,
   "id": "e3c05e7d-2324-4a1f-b43a-97e36bfe5383",
   "metadata": {},
   "outputs": [
    {
     "name": "stdout",
     "output_type": "stream",
     "text": [
      "('department',)\n",
      "('employee2',)\n",
      "('student',)\n",
      "('students',)\n"
     ]
    }
   ],
   "source": [
    "mycursor.execute('SHOW TABLES')\n",
    "for table in mycursor:\n",
    "    print(table)"
   ]
  },
  {
   "cell_type": "code",
   "execution_count": 45,
   "id": "7688e461-f323-45f9-ab2c-e1da2125b4a2",
   "metadata": {},
   "outputs": [],
   "source": [
    "query = '''INSERT INTO students(stdid , name , age , city)\n",
    "            VALUES(%s , %s ,%s ,%s)'''\n",
    "val = (101 , 'Abhay'  ,34 , 'Pune')\n",
    "mycursor.execute(query , val)"
   ]
  },
  {
   "cell_type": "code",
   "execution_count": 47,
   "id": "477eca73-e8fc-4819-a121-691e2cdc7baf",
   "metadata": {},
   "outputs": [
    {
     "name": "stdout",
     "output_type": "stream",
     "text": [
      "(101, 'Abhay', 34, 'Pune')\n"
     ]
    }
   ],
   "source": [
    "mycursor.execute('SELECT *FROM students')\n",
    "for row in mycursor:\n",
    "    print(row)"
   ]
  },
  {
   "cell_type": "code",
   "execution_count": 48,
   "id": "1bc05d8d-e573-4e72-96f0-1877b1c161cc",
   "metadata": {},
   "outputs": [
    {
     "data": {
      "text/plain": [
       "tuple"
      ]
     },
     "execution_count": 48,
     "metadata": {},
     "output_type": "execute_result"
    }
   ],
   "source": [
    "type(row)"
   ]
  },
  {
   "cell_type": "code",
   "execution_count": 53,
   "id": "6f6f27d7-d0c6-47b7-837a-a34cac3ca78f",
   "metadata": {},
   "outputs": [
    {
     "name": "stdin",
     "output_type": "stream",
     "text": [
      "ENTER STUDENT ID : 104\n",
      "ENTER NAME : ronny\n",
      "ENTER AGE : 12\n",
      "ENTER CITY :  bihar\n"
     ]
    }
   ],
   "source": [
    "stdid = int(input('ENTER STUDENT ID :'))\n",
    "name = input('ENTER NAME :')\n",
    "age = int(input('ENTER AGE :'))\n",
    "city = input('ENTER CITY : ')\n",
    "\n",
    "val =(stdid , name , age , city )\n",
    "mycursor.execute(query , val)\n",
    "\n"
   ]
  },
  {
   "cell_type": "code",
   "execution_count": 54,
   "id": "153423a5-4001-44e3-9351-764230dce7ba",
   "metadata": {},
   "outputs": [
    {
     "ename": "IntegrityError",
     "evalue": "1062 (23000): Duplicate entry '104' for key 'students.PRIMARY'",
     "output_type": "error",
     "traceback": [
      "\u001b[1;31m---------------------------------------------------------------------------\u001b[0m",
      "\u001b[1;31mMySQLInterfaceError\u001b[0m                       Traceback (most recent call last)",
      "File \u001b[1;32m~\\AppData\\Local\\Programs\\Python\\Python313\\Lib\\site-packages\\mysql\\connector\\connection_cext.py:772\u001b[0m, in \u001b[0;36mCMySQLConnection.cmd_query\u001b[1;34m(self, query, raw, buffered, raw_as_string, **kwargs)\u001b[0m\n\u001b[0;32m    770\u001b[0m     \u001b[38;5;28mself\u001b[39m\u001b[38;5;241m.\u001b[39m_local_infile_filenames \u001b[38;5;241m=\u001b[39m \u001b[38;5;28;01mNone\u001b[39;00m\n\u001b[1;32m--> 772\u001b[0m     \u001b[38;5;28;43mself\u001b[39;49m\u001b[38;5;241;43m.\u001b[39;49m\u001b[43m_cmysql\u001b[49m\u001b[38;5;241;43m.\u001b[39;49m\u001b[43mquery\u001b[49m\u001b[43m(\u001b[49m\n\u001b[0;32m    773\u001b[0m \u001b[43m        \u001b[49m\u001b[43mquery\u001b[49m\u001b[43m,\u001b[49m\n\u001b[0;32m    774\u001b[0m \u001b[43m        \u001b[49m\u001b[43mraw\u001b[49m\u001b[38;5;241;43m=\u001b[39;49m\u001b[43mraw\u001b[49m\u001b[43m,\u001b[49m\n\u001b[0;32m    775\u001b[0m \u001b[43m        \u001b[49m\u001b[43mbuffered\u001b[49m\u001b[38;5;241;43m=\u001b[39;49m\u001b[43mbuffered\u001b[49m\u001b[43m,\u001b[49m\n\u001b[0;32m    776\u001b[0m \u001b[43m        \u001b[49m\u001b[43mraw_as_string\u001b[49m\u001b[38;5;241;43m=\u001b[39;49m\u001b[43mraw_as_string\u001b[49m\u001b[43m,\u001b[49m\n\u001b[0;32m    777\u001b[0m \u001b[43m        \u001b[49m\u001b[43mquery_attrs\u001b[49m\u001b[38;5;241;43m=\u001b[39;49m\u001b[38;5;28;43mself\u001b[39;49m\u001b[38;5;241;43m.\u001b[39;49m\u001b[43mquery_attrs\u001b[49m\u001b[43m,\u001b[49m\n\u001b[0;32m    778\u001b[0m \u001b[43m    \u001b[49m\u001b[43m)\u001b[49m\n\u001b[0;32m    779\u001b[0m \u001b[38;5;28;01mexcept\u001b[39;00m MySQLInterfaceError \u001b[38;5;28;01mas\u001b[39;00m err:\n",
      "\u001b[1;31mMySQLInterfaceError\u001b[0m: Duplicate entry '104' for key 'students.PRIMARY'",
      "\nThe above exception was the direct cause of the following exception:\n",
      "\u001b[1;31mIntegrityError\u001b[0m                            Traceback (most recent call last)",
      "Cell \u001b[1;32mIn[54], line 1\u001b[0m\n\u001b[1;32m----> 1\u001b[0m \u001b[43mmycursor\u001b[49m\u001b[38;5;241;43m.\u001b[39;49m\u001b[43mexecute\u001b[49m\u001b[43m(\u001b[49m\u001b[43mquery\u001b[49m\u001b[43m \u001b[49m\u001b[43m,\u001b[49m\u001b[43m \u001b[49m\u001b[43mval\u001b[49m\u001b[43m)\u001b[49m\n",
      "File \u001b[1;32m~\\AppData\\Local\\Programs\\Python\\Python313\\Lib\\site-packages\\mysql\\connector\\cursor_cext.py:356\u001b[0m, in \u001b[0;36mCMySQLCursor.execute\u001b[1;34m(self, operation, params, map_results)\u001b[0m\n\u001b[0;32m    348\u001b[0m \u001b[38;5;28mself\u001b[39m\u001b[38;5;241m.\u001b[39m_executed \u001b[38;5;241m=\u001b[39m (\n\u001b[0;32m    349\u001b[0m     \u001b[38;5;28mself\u001b[39m\u001b[38;5;241m.\u001b[39m_stmt_partition[\u001b[38;5;124m\"\u001b[39m\u001b[38;5;124msingle_stmts\u001b[39m\u001b[38;5;124m\"\u001b[39m]\u001b[38;5;241m.\u001b[39mpopleft()\n\u001b[0;32m    350\u001b[0m     \u001b[38;5;28;01mif\u001b[39;00m map_results\n\u001b[0;32m    351\u001b[0m     \u001b[38;5;28;01melse\u001b[39;00m \u001b[38;5;28mself\u001b[39m\u001b[38;5;241m.\u001b[39m_stmt_partition[\u001b[38;5;124m\"\u001b[39m\u001b[38;5;124mmappable_stmt\u001b[39m\u001b[38;5;124m\"\u001b[39m]\n\u001b[0;32m    352\u001b[0m )\n\u001b[0;32m    354\u001b[0m \u001b[38;5;28;01mtry\u001b[39;00m:\n\u001b[0;32m    355\u001b[0m     \u001b[38;5;28mself\u001b[39m\u001b[38;5;241m.\u001b[39m_handle_result(\n\u001b[1;32m--> 356\u001b[0m         \u001b[38;5;28;43mself\u001b[39;49m\u001b[38;5;241;43m.\u001b[39;49m\u001b[43m_connection\u001b[49m\u001b[38;5;241;43m.\u001b[39;49m\u001b[43mcmd_query\u001b[49m\u001b[43m(\u001b[49m\n\u001b[0;32m    357\u001b[0m \u001b[43m            \u001b[49m\u001b[38;5;28;43mself\u001b[39;49m\u001b[38;5;241;43m.\u001b[39;49m\u001b[43m_stmt_partition\u001b[49m\u001b[43m[\u001b[49m\u001b[38;5;124;43m\"\u001b[39;49m\u001b[38;5;124;43mmappable_stmt\u001b[39;49m\u001b[38;5;124;43m\"\u001b[39;49m\u001b[43m]\u001b[49m\u001b[43m,\u001b[49m\n\u001b[0;32m    358\u001b[0m \u001b[43m            \u001b[49m\u001b[43mraw\u001b[49m\u001b[38;5;241;43m=\u001b[39;49m\u001b[38;5;28;43mself\u001b[39;49m\u001b[38;5;241;43m.\u001b[39;49m\u001b[43m_raw\u001b[49m\u001b[43m,\u001b[49m\n\u001b[0;32m    359\u001b[0m \u001b[43m            \u001b[49m\u001b[43mbuffered\u001b[49m\u001b[38;5;241;43m=\u001b[39;49m\u001b[38;5;28;43mself\u001b[39;49m\u001b[38;5;241;43m.\u001b[39;49m\u001b[43m_buffered\u001b[49m\u001b[43m,\u001b[49m\n\u001b[0;32m    360\u001b[0m \u001b[43m            \u001b[49m\u001b[43mraw_as_string\u001b[49m\u001b[38;5;241;43m=\u001b[39;49m\u001b[38;5;28;43mself\u001b[39;49m\u001b[38;5;241;43m.\u001b[39;49m\u001b[43m_raw_as_string\u001b[49m\u001b[43m,\u001b[49m\n\u001b[0;32m    361\u001b[0m \u001b[43m        \u001b[49m\u001b[43m)\u001b[49m\n\u001b[0;32m    362\u001b[0m     )\n\u001b[0;32m    363\u001b[0m \u001b[38;5;28;01mexcept\u001b[39;00m MySQLInterfaceError \u001b[38;5;28;01mas\u001b[39;00m err:\n\u001b[0;32m    364\u001b[0m     \u001b[38;5;28;01mif\u001b[39;00m \u001b[38;5;28mhasattr\u001b[39m(err, \u001b[38;5;124m\"\u001b[39m\u001b[38;5;124merrno\u001b[39m\u001b[38;5;124m\"\u001b[39m):\n",
      "File \u001b[1;32m~\\AppData\\Local\\Programs\\Python\\Python313\\Lib\\site-packages\\mysql\\connector\\opentelemetry\\context_propagation.py:97\u001b[0m, in \u001b[0;36mwith_context_propagation.<locals>.wrapper\u001b[1;34m(cnx, *args, **kwargs)\u001b[0m\n\u001b[0;32m     95\u001b[0m \u001b[38;5;66;03m# pylint: disable=possibly-used-before-assignment\u001b[39;00m\n\u001b[0;32m     96\u001b[0m \u001b[38;5;28;01mif\u001b[39;00m \u001b[38;5;129;01mnot\u001b[39;00m OTEL_ENABLED \u001b[38;5;129;01mor\u001b[39;00m \u001b[38;5;129;01mnot\u001b[39;00m cnx\u001b[38;5;241m.\u001b[39motel_context_propagation:\n\u001b[1;32m---> 97\u001b[0m     \u001b[38;5;28;01mreturn\u001b[39;00m \u001b[43mmethod\u001b[49m\u001b[43m(\u001b[49m\u001b[43mcnx\u001b[49m\u001b[43m,\u001b[49m\u001b[43m \u001b[49m\u001b[38;5;241;43m*\u001b[39;49m\u001b[43margs\u001b[49m\u001b[43m,\u001b[49m\u001b[43m \u001b[49m\u001b[38;5;241;43m*\u001b[39;49m\u001b[38;5;241;43m*\u001b[39;49m\u001b[43mkwargs\u001b[49m\u001b[43m)\u001b[49m\n\u001b[0;32m     99\u001b[0m current_span \u001b[38;5;241m=\u001b[39m trace\u001b[38;5;241m.\u001b[39mget_current_span()\n\u001b[0;32m    100\u001b[0m tp_header \u001b[38;5;241m=\u001b[39m \u001b[38;5;28;01mNone\u001b[39;00m\n",
      "File \u001b[1;32m~\\AppData\\Local\\Programs\\Python\\Python313\\Lib\\site-packages\\mysql\\connector\\connection_cext.py:781\u001b[0m, in \u001b[0;36mCMySQLConnection.cmd_query\u001b[1;34m(self, query, raw, buffered, raw_as_string, **kwargs)\u001b[0m\n\u001b[0;32m    779\u001b[0m \u001b[38;5;28;01mexcept\u001b[39;00m MySQLInterfaceError \u001b[38;5;28;01mas\u001b[39;00m err:\n\u001b[0;32m    780\u001b[0m     \u001b[38;5;28;01mif\u001b[39;00m \u001b[38;5;28mhasattr\u001b[39m(err, \u001b[38;5;124m\"\u001b[39m\u001b[38;5;124merrno\u001b[39m\u001b[38;5;124m\"\u001b[39m):\n\u001b[1;32m--> 781\u001b[0m         \u001b[38;5;28;01mraise\u001b[39;00m get_mysql_exception(\n\u001b[0;32m    782\u001b[0m             err\u001b[38;5;241m.\u001b[39merrno, msg\u001b[38;5;241m=\u001b[39merr\u001b[38;5;241m.\u001b[39mmsg, sqlstate\u001b[38;5;241m=\u001b[39merr\u001b[38;5;241m.\u001b[39msqlstate\n\u001b[0;32m    783\u001b[0m         ) \u001b[38;5;28;01mfrom\u001b[39;00m\u001b[38;5;250m \u001b[39m\u001b[38;5;21;01merr\u001b[39;00m\n\u001b[0;32m    784\u001b[0m     \u001b[38;5;28;01mraise\u001b[39;00m InterfaceError(\u001b[38;5;28mstr\u001b[39m(err)) \u001b[38;5;28;01mfrom\u001b[39;00m\u001b[38;5;250m \u001b[39m\u001b[38;5;21;01merr\u001b[39;00m\n\u001b[0;32m    785\u001b[0m \u001b[38;5;28;01mexcept\u001b[39;00m \u001b[38;5;167;01mAttributeError\u001b[39;00m \u001b[38;5;28;01mas\u001b[39;00m err:\n",
      "\u001b[1;31mIntegrityError\u001b[0m: 1062 (23000): Duplicate entry '104' for key 'students.PRIMARY'"
     ]
    }
   ],
   "source": [
    "mycursor.execute(query , val)"
   ]
  },
  {
   "cell_type": "code",
   "execution_count": 55,
   "id": "6a4ecc4e-5316-4fc0-9d61-b430dc20b9b5",
   "metadata": {},
   "outputs": [
    {
     "name": "stdout",
     "output_type": "stream",
     "text": [
      "(101, 'Abhay', 34, 'Pune')\n",
      "(104, 'ronny', 12, 'bihar')\n"
     ]
    }
   ],
   "source": [
    "mycursor.execute('SELECT *FROM students')\n",
    "for row in mycursor:\n",
    "    print(row)"
   ]
  },
  {
   "cell_type": "code",
   "execution_count": 61,
   "id": "282535c1-fa14-483d-b5a0-21f062f2e913",
   "metadata": {},
   "outputs": [],
   "source": [
    "query  = '''INSERT INTO students(stdid ,name , age  ,city)\n",
    "            VALUES(%s , %s , %s , %s)'''\n",
    "val = [(106 , 'SIMRAN' , 32 , 'HYDRABAD') , \n",
    "       (109 , 'ATUL' , 23 , 'PUNE'),\n",
    "      (108 , 'ANIL' , 44  ,'SIGRA')]\n",
    "mycursor.executemany(query , val)"
   ]
  },
  {
   "cell_type": "code",
   "execution_count": 62,
   "id": "63c69ba9-ec1a-41e1-8872-a4c918d0907c",
   "metadata": {},
   "outputs": [
    {
     "name": "stdout",
     "output_type": "stream",
     "text": [
      "(101, 'Abhay', 34, 'Pune')\n",
      "(102, 'ATUL', 23, 'PUNE')\n",
      "(103, 'SIMRAN', 32, 'HYDRABAD')\n",
      "(104, 'ronny', 12, 'bihar')\n",
      "(106, 'SIMRAN', 32, 'HYDRABAD')\n",
      "(108, 'ANIL', 44, 'SIGRA')\n",
      "(109, 'ATUL', 23, 'PUNE')\n"
     ]
    }
   ],
   "source": [
    "mycursor.execute('SELECT *FROM students')\n",
    "for row in mycursor:\n",
    "    print(row)"
   ]
  },
  {
   "cell_type": "code",
   "execution_count": 63,
   "id": "6150a3a4-279c-4641-a043-3c415a237d1e",
   "metadata": {},
   "outputs": [
    {
     "data": {
      "text/plain": [
       "[(101, 'Abhay', 34, 'Pune'),\n",
       " (103, 'SIMRAN', 32, 'HYDRABAD'),\n",
       " (106, 'SIMRAN', 32, 'HYDRABAD'),\n",
       " (108, 'ANIL', 44, 'SIGRA')]"
      ]
     },
     "execution_count": 63,
     "metadata": {},
     "output_type": "execute_result"
    }
   ],
   "source": [
    "mycursor.execute('SELECT * FROM students WHERE age > 30 ')\n",
    "list(mycursor)"
   ]
  },
  {
   "cell_type": "code",
   "execution_count": 65,
   "id": "727e2aaa-0834-4f4e-8939-33b5cea09836",
   "metadata": {},
   "outputs": [
    {
     "data": {
      "text/plain": [
       "[(101, 'Abhay', 34, 'Pune'),\n",
       " (102, 'ATUL', 23, 'PUNE'),\n",
       " (109, 'ATUL', 23, 'PUNE')]"
      ]
     },
     "execution_count": 65,
     "metadata": {},
     "output_type": "execute_result"
    }
   ],
   "source": [
    "mycursor.execute(\"SELECT * FROM students WHERE city  IN ('pune') \")\n",
    "list(mycursor)"
   ]
  },
  {
   "cell_type": "code",
   "execution_count": 66,
   "id": "73c4eeb9-b038-484c-8c0b-86fc4b082da4",
   "metadata": {},
   "outputs": [],
   "source": [
    "mydb.commit()\n",
    "mydb.close()"
   ]
  },
  {
   "cell_type": "code",
   "execution_count": 67,
   "id": "5b0a2b26-311a-4b8e-83f7-dcbecb4c2d97",
   "metadata": {},
   "outputs": [],
   "source": [
    "mydb = mysql.connector.connect(host = 'localhost' ,\n",
    "                               user = 'root',\n",
    "                               password = 'root',\n",
    "                               database = 'demo1')"
   ]
  },
  {
   "cell_type": "code",
   "execution_count": 72,
   "id": "92ff2bb5-35f9-4d26-b7b8-1fd4aedfc7cd",
   "metadata": {},
   "outputs": [],
   "source": [
    "mycursor = mydb.cursor()"
   ]
  },
  {
   "cell_type": "code",
   "execution_count": 73,
   "id": "c304bdcd-b5a2-4f16-8e6f-6ac346d8cad3",
   "metadata": {},
   "outputs": [
    {
     "name": "stdout",
     "output_type": "stream",
     "text": [
      "('department',)\n",
      "('employee2',)\n",
      "('student',)\n",
      "('students',)\n"
     ]
    }
   ],
   "source": [
    "mycursor.execute('SHOW TABLES')\n",
    "for table in mycursor:\n",
    "    print(table)"
   ]
  },
  {
   "cell_type": "code",
   "execution_count": 74,
   "id": "c0e28a04-6cf9-455e-8779-9ffcbc105fd8",
   "metadata": {},
   "outputs": [
    {
     "name": "stdout",
     "output_type": "stream",
     "text": [
      "('department',)\n",
      "('employee2',)\n",
      "('student',)\n",
      "('students',)\n"
     ]
    }
   ],
   "source": [
    "mycursor.execute('SHOW TABLES')\n",
    "for table in mycursor:\n",
    "    print(table)"
   ]
  },
  {
   "cell_type": "code",
   "execution_count": 75,
   "id": "08de7171-3ec5-46d4-a8f9-1b793f04e4a0",
   "metadata": {},
   "outputs": [],
   "source": [
    "mydb.commit()\n",
    "mydb.close()"
   ]
  },
  {
   "cell_type": "code",
   "execution_count": 76,
   "id": "b5dc7d6c-482e-4640-a5ec-0591941c2d9f",
   "metadata": {},
   "outputs": [],
   "source": [
    "mydb = mysql.connector.connect(host = 'localhost' ,\n",
    "                               user = 'root',\n",
    "                               password = 'root',\n",
    "                               database = 'demo0')"
   ]
  },
  {
   "cell_type": "code",
   "execution_count": 77,
   "id": "486bdf93-ed5a-42c2-a307-f724fc1a49af",
   "metadata": {},
   "outputs": [
    {
     "ename": "ProgrammingError",
     "evalue": "2055: Cursor is not connected",
     "output_type": "error",
     "traceback": [
      "\u001b[1;31m---------------------------------------------------------------------------\u001b[0m",
      "\u001b[1;31mReferenceError\u001b[0m                            Traceback (most recent call last)",
      "File \u001b[1;32m~\\AppData\\Local\\Programs\\Python\\Python313\\Lib\\site-packages\\mysql\\connector\\cursor_cext.py:310\u001b[0m, in \u001b[0;36mCMySQLCursor.execute\u001b[1;34m(self, operation, params, map_results)\u001b[0m\n\u001b[0;32m    309\u001b[0m \u001b[38;5;28;01mtry\u001b[39;00m:\n\u001b[1;32m--> 310\u001b[0m     \u001b[38;5;28;01mif\u001b[39;00m \u001b[38;5;129;01mnot\u001b[39;00m \u001b[38;5;28mself\u001b[39m\u001b[38;5;241m.\u001b[39m_connection \u001b[38;5;129;01mor\u001b[39;00m \u001b[38;5;28mself\u001b[39m\u001b[38;5;241m.\u001b[39m_connection\u001b[38;5;241m.\u001b[39mis_closed():\n\u001b[0;32m    311\u001b[0m         \u001b[38;5;28;01mraise\u001b[39;00m ProgrammingError\n",
      "\u001b[1;31mReferenceError\u001b[0m: weakly-referenced object no longer exists",
      "\nThe above exception was the direct cause of the following exception:\n",
      "\u001b[1;31mProgrammingError\u001b[0m                          Traceback (most recent call last)",
      "Cell \u001b[1;32mIn[77], line 1\u001b[0m\n\u001b[1;32m----> 1\u001b[0m \u001b[43mmycursor\u001b[49m\u001b[38;5;241;43m.\u001b[39;49m\u001b[43mexecute\u001b[49m\u001b[43m(\u001b[49m\u001b[38;5;124;43m'\u001b[39;49m\u001b[38;5;124;43mSHOW TABLES\u001b[39;49m\u001b[38;5;124;43m'\u001b[39;49m\u001b[43m)\u001b[49m\n\u001b[0;32m      2\u001b[0m \u001b[38;5;28;01mfor\u001b[39;00m table \u001b[38;5;129;01min\u001b[39;00m mycursor:\n\u001b[0;32m      3\u001b[0m     \u001b[38;5;28mprint\u001b[39m(table)\n",
      "File \u001b[1;32m~\\AppData\\Local\\Programs\\Python\\Python313\\Lib\\site-packages\\mysql\\connector\\cursor_cext.py:313\u001b[0m, in \u001b[0;36mCMySQLCursor.execute\u001b[1;34m(self, operation, params, map_results)\u001b[0m\n\u001b[0;32m    311\u001b[0m         \u001b[38;5;28;01mraise\u001b[39;00m ProgrammingError\n\u001b[0;32m    312\u001b[0m \u001b[38;5;28;01mexcept\u001b[39;00m (ProgrammingError, \u001b[38;5;167;01mReferenceError\u001b[39;00m) \u001b[38;5;28;01mas\u001b[39;00m err:\n\u001b[1;32m--> 313\u001b[0m     \u001b[38;5;28;01mraise\u001b[39;00m ProgrammingError(\u001b[38;5;124m\"\u001b[39m\u001b[38;5;124mCursor is not connected\u001b[39m\u001b[38;5;124m\"\u001b[39m, \u001b[38;5;241m2055\u001b[39m) \u001b[38;5;28;01mfrom\u001b[39;00m\u001b[38;5;250m \u001b[39m\u001b[38;5;21;01merr\u001b[39;00m\n\u001b[0;32m    315\u001b[0m \u001b[38;5;28mself\u001b[39m\u001b[38;5;241m.\u001b[39m_connection\u001b[38;5;241m.\u001b[39mhandle_unread_result()\n\u001b[0;32m    316\u001b[0m \u001b[38;5;28mself\u001b[39m\u001b[38;5;241m.\u001b[39mreset()\n",
      "\u001b[1;31mProgrammingError\u001b[0m: 2055: Cursor is not connected"
     ]
    }
   ],
   "source": [
    "mycursor.execute('SHOW TABLES')\n",
    "for table in mycursor:\n",
    "    print(table)"
   ]
  },
  {
   "cell_type": "code",
   "execution_count": 78,
   "id": "1225b579-f3a9-451e-bca7-f3c7d35711a2",
   "metadata": {},
   "outputs": [],
   "source": [
    "mycursor = mydb.cursor()"
   ]
  },
  {
   "cell_type": "code",
   "execution_count": 79,
   "id": "22e0b455-2471-4ee5-8d90-9e73686e5731",
   "metadata": {},
   "outputs": [
    {
     "name": "stdout",
     "output_type": "stream",
     "text": [
      "('employee',)\n"
     ]
    }
   ],
   "source": [
    "mycursor.execute('SHOW TABLES')\n",
    "for table in mycursor:\n",
    "    print(table)"
   ]
  },
  {
   "cell_type": "code",
   "execution_count": 80,
   "id": "bb7b9700-0c3a-4517-8e02-3cbc334150a8",
   "metadata": {},
   "outputs": [
    {
     "data": {
      "text/plain": [
       "[(101, 'Rahul', 'Sharma', 'M', 'Delhi', 55000, 'IT'),\n",
       " (102, 'Priya', 'Mehra', 'F', 'Mumbai', 60000, 'HR'),\n",
       " (103, 'Amit', 'Verma', 'M', 'Jaipur', 45000, 'Finance'),\n",
       " (104, 'Sneha', 'Kapoor', 'F', 'Pune', 70000, 'Marketing'),\n",
       " (105, 'Karan', 'Singh', 'M', 'Chennai', 50000, 'IT'),\n",
       " (106, 'Anjali', 'Rao', 'F', 'Jaipur', 65000, 'Sales'),\n",
       " (107, 'Deepak', 'Joshi', 'M', 'Bangalore', 48000, 'Operations'),\n",
       " (108, 'Neha', 'Gupta', 'F', 'Hyderabad', 72000, 'Finance'),\n",
       " (109, 'Arjun', None, 'M', 'Jaipur', 55000, 'Support'),\n",
       " (110, 'Isha', 'Desai', 'F', 'Ahmedabad', 53000, 'HR'),\n",
       " (111, 'Vikas', 'Saxena', 'M', 'Jaipur', 46000, 'IT'),\n",
       " (112, 'Megha', 'Patil', 'F', 'Jaipur', 58000, 'Sales'),\n",
       " (113, 'Rohit', 'Yadav', 'M', 'Noida', 62000, 'Finance'),\n",
       " (114, 'Komal', 'Bhatia', 'F', 'Indore', 47000, 'Marketing'),\n",
       " (115, 'Manish', 'Kumar', 'M', 'Delhi', 51000, 'Operations'),\n",
       " (116, 'Pooja', 'Sinha', 'F', 'Lucknow', 49000, 'HR'),\n",
       " (117, 'Suresh', 'Reddy', 'M', 'Jaipur', 53000, 'Support'),\n",
       " (118, 'Tanvi', 'Rana', 'F', 'Dehradun', 61000, 'Sales'),\n",
       " (119, 'Yash', 'Mishra', 'M', 'Kolkata', 58000, 'Finance'),\n",
       " (120, 'Ritika', 'Chopra', 'F', 'Mumbai', 64000, 'IT'),\n",
       " (121, 'Abhishek', 'Pandey', 'M', 'Pune', 60000, 'Marketing'),\n",
       " (122, 'Nikita', 'Thakur', 'F', 'Jaipur', 70000, 'Finance'),\n",
       " (123, 'Vivek', 'Tiwari', 'M', 'Kanpur', 48000, 'Operations'),\n",
       " (124, 'Sakshi', 'Dwivedi', 'F', 'Gurgaon', 56000, 'HR'),\n",
       " (125, 'Ravi', 'Naik', 'M', 'Jaipur', 52000, 'Support'),\n",
       " (126, 'Ankita', 'Singh', 'F', 'Bhopal', 59000, 'Sales'),\n",
       " (127, 'Harsh', 'Bansal', 'M', 'Nagpur', 61000, 'Finance'),\n",
       " (128, 'Tanya', 'Goyal', 'F', 'Surat', 62000, 'IT'),\n",
       " (129, 'Nilesh', 'Jain', 'M', 'Jaipur', 55000, 'HR'),\n",
       " (130, 'Divya', 'Agarwal', 'F', 'Patna', 63000, 'Marketing'),\n",
       " (131, 'Aarav', 'Kapoor', 'M', 'Mumbai', 68000, 'Finance'),\n",
       " (132, 'Simran', 'Gill', 'F', 'Jaipur', 54000, 'Support'),\n",
       " (133, 'Mohit', 'Seth', 'M', 'Delhi', 47000, 'Operations'),\n",
       " (134, 'Kritika', 'Malhotra', 'F', 'Lucknow', 60000, 'HR'),\n",
       " (135, 'Aditya', 'Gupta', 'M', 'Jaipur', 66000, 'IT'),\n",
       " (136, 'Swati', 'Mishra', 'F', 'Ahmedabad', 58000, 'Sales'),\n",
       " (137, 'Kunal', 'Joshi', 'M', 'Bangalore', 64000, 'Marketing'),\n",
       " (138, 'Pallavi', 'Rathore', 'F', 'Pune', 69000, 'Finance'),\n",
       " (139, 'Raghav', 'Khandelwal', 'M', 'Jaipur', 57000, 'IT'),\n",
       " (140, 'Ira', 'Dubey', 'F', 'Indore', 49000, 'Support'),\n",
       " (141, 'Varun', 'Rawat', 'M', 'Noida', 61000, 'Operations'),\n",
       " (142, 'Shreya', 'Nair', 'F', 'Jaipur', 65000, 'HR'),\n",
       " (143, 'Ayaan', 'Bhatt', 'M', 'Jaipur', 56000, 'Sales'),\n",
       " (144, 'Preeti', 'Menon', 'F', 'Kochi', 67000, 'Finance'),\n",
       " (145, 'Dhruv', 'Tripathi', 'M', 'Hyderabad', 70000, 'IT'),\n",
       " (146, 'Rhea', 'Saxena', 'F', 'Jaipur', 59000, 'Marketing'),\n",
       " (147, 'Siddharth', 'Chauhan', 'M', 'Delhi', 62000, 'Support'),\n",
       " (148, 'Avni', 'Roy', 'F', 'Mumbai', 64000, 'Sales'),\n",
       " (149, 'Uday', 'Verma', 'M', 'Jaipur', 55000, 'Operations'),\n",
       " (150, 'Ishita', 'Bose', 'F', 'Kolkata', 60000, 'HR')]"
      ]
     },
     "execution_count": 80,
     "metadata": {},
     "output_type": "execute_result"
    }
   ],
   "source": [
    "mycursor.execute('SELECT * FROM employee')\n",
    "list(mycursor)"
   ]
  },
  {
   "cell_type": "code",
   "execution_count": 84,
   "id": "124dd13f-f977-4214-b2d0-2494d53b7dc2",
   "metadata": {},
   "outputs": [
    {
     "data": {
      "text/plain": [
       "[(104, 'Sneha', 'Kapoor', 'F', 'Pune', 70000, 'Marketing'),\n",
       " (122, 'Nikita', 'Thakur', 'F', 'Jaipur', 70000, 'Finance'),\n",
       " (145, 'Dhruv', 'Tripathi', 'M', 'Hyderabad', 70000, 'IT'),\n",
       " (138, 'Pallavi', 'Rathore', 'F', 'Pune', 69000, 'Finance'),\n",
       " (131, 'Aarav', 'Kapoor', 'M', 'Mumbai', 68000, 'Finance'),\n",
       " (144, 'Preeti', 'Menon', 'F', 'Kochi', 67000, 'Finance'),\n",
       " (135, 'Aditya', 'Gupta', 'M', 'Jaipur', 66000, 'IT'),\n",
       " (106, 'Anjali', 'Rao', 'F', 'Jaipur', 65000, 'Sales'),\n",
       " (142, 'Shreya', 'Nair', 'F', 'Jaipur', 65000, 'HR'),\n",
       " (120, 'Ritika', 'Chopra', 'F', 'Mumbai', 64000, 'IT'),\n",
       " (137, 'Kunal', 'Joshi', 'M', 'Bangalore', 64000, 'Marketing'),\n",
       " (148, 'Avni', 'Roy', 'F', 'Mumbai', 64000, 'Sales'),\n",
       " (130, 'Divya', 'Agarwal', 'F', 'Patna', 63000, 'Marketing'),\n",
       " (113, 'Rohit', 'Yadav', 'M', 'Noida', 62000, 'Finance'),\n",
       " (128, 'Tanya', 'Goyal', 'F', 'Surat', 62000, 'IT'),\n",
       " (147, 'Siddharth', 'Chauhan', 'M', 'Delhi', 62000, 'Support'),\n",
       " (118, 'Tanvi', 'Rana', 'F', 'Dehradun', 61000, 'Sales'),\n",
       " (127, 'Harsh', 'Bansal', 'M', 'Nagpur', 61000, 'Finance'),\n",
       " (141, 'Varun', 'Rawat', 'M', 'Noida', 61000, 'Operations'),\n",
       " (102, 'Priya', 'Mehra', 'F', 'Mumbai', 60000, 'HR'),\n",
       " (121, 'Abhishek', 'Pandey', 'M', 'Pune', 60000, 'Marketing'),\n",
       " (134, 'Kritika', 'Malhotra', 'F', 'Lucknow', 60000, 'HR'),\n",
       " (150, 'Ishita', 'Bose', 'F', 'Kolkata', 60000, 'HR')]"
      ]
     },
     "execution_count": 84,
     "metadata": {},
     "output_type": "execute_result"
    }
   ],
   "source": [
    "query = '''SELECT * FROM employee\n",
    "            WHERE salary BETWEEN 60000 AND 70000\n",
    "            ORDER BY salary DESC'''\n",
    "mycursor.execute(query)\n",
    "list(mycursor)"
   ]
  },
  {
   "cell_type": "code",
   "execution_count": 87,
   "id": "462b3c72-9281-4888-afd6-4ff45a794e98",
   "metadata": {},
   "outputs": [
    {
     "data": {
      "text/plain": [
       "[('Finance', Decimal('63555.5556')),\n",
       " ('Marketing', Decimal('60500.0000')),\n",
       " ('Sales', Decimal('60142.8571')),\n",
       " ('IT', Decimal('58750.0000')),\n",
       " ('HR', Decimal('57250.0000')),\n",
       " ('Support', Decimal('54166.6667')),\n",
       " ('Operations', Decimal('51666.6667'))]"
      ]
     },
     "execution_count": 87,
     "metadata": {},
     "output_type": "execute_result"
    }
   ],
   "source": [
    "query = ''' SELECT department , AVG(salary) as avg_sal FROM employee\n",
    "            GROUP BY department\n",
    "            ORDER BY avg_sal DESC '''\n",
    "mycursor.execute(query)\n",
    "list(mycursor)\n",
    "            "
   ]
  },
  {
   "cell_type": "code",
   "execution_count": 88,
   "id": "c17460d4-4a15-438d-a2d5-3d7a89d6b80d",
   "metadata": {},
   "outputs": [
    {
     "data": {
      "text/plain": [
       "[(102, 'Priya', 'Mehra', 'F', 'Mumbai', 60000, 'HR'),\n",
       " (104, 'Sneha', 'Kapoor', 'F', 'Pune', 70000, 'Marketing'),\n",
       " (106, 'Anjali', 'Rao', 'F', 'Jaipur', 65000, 'Sales'),\n",
       " (108, 'Neha', 'Gupta', 'F', 'Hyderabad', 72000, 'Finance'),\n",
       " (113, 'Rohit', 'Yadav', 'M', 'Noida', 62000, 'Finance'),\n",
       " (118, 'Tanvi', 'Rana', 'F', 'Dehradun', 61000, 'Sales'),\n",
       " (120, 'Ritika', 'Chopra', 'F', 'Mumbai', 64000, 'IT'),\n",
       " (121, 'Abhishek', 'Pandey', 'M', 'Pune', 60000, 'Marketing'),\n",
       " (122, 'Nikita', 'Thakur', 'F', 'Jaipur', 70000, 'Finance'),\n",
       " (126, 'Ankita', 'Singh', 'F', 'Bhopal', 59000, 'Sales'),\n",
       " (127, 'Harsh', 'Bansal', 'M', 'Nagpur', 61000, 'Finance'),\n",
       " (128, 'Tanya', 'Goyal', 'F', 'Surat', 62000, 'IT'),\n",
       " (130, 'Divya', 'Agarwal', 'F', 'Patna', 63000, 'Marketing'),\n",
       " (131, 'Aarav', 'Kapoor', 'M', 'Mumbai', 68000, 'Finance'),\n",
       " (134, 'Kritika', 'Malhotra', 'F', 'Lucknow', 60000, 'HR'),\n",
       " (135, 'Aditya', 'Gupta', 'M', 'Jaipur', 66000, 'IT'),\n",
       " (137, 'Kunal', 'Joshi', 'M', 'Bangalore', 64000, 'Marketing'),\n",
       " (138, 'Pallavi', 'Rathore', 'F', 'Pune', 69000, 'Finance'),\n",
       " (141, 'Varun', 'Rawat', 'M', 'Noida', 61000, 'Operations'),\n",
       " (142, 'Shreya', 'Nair', 'F', 'Jaipur', 65000, 'HR'),\n",
       " (144, 'Preeti', 'Menon', 'F', 'Kochi', 67000, 'Finance'),\n",
       " (145, 'Dhruv', 'Tripathi', 'M', 'Hyderabad', 70000, 'IT'),\n",
       " (146, 'Rhea', 'Saxena', 'F', 'Jaipur', 59000, 'Marketing'),\n",
       " (147, 'Siddharth', 'Chauhan', 'M', 'Delhi', 62000, 'Support'),\n",
       " (148, 'Avni', 'Roy', 'F', 'Mumbai', 64000, 'Sales'),\n",
       " (150, 'Ishita', 'Bose', 'F', 'Kolkata', 60000, 'HR')]"
      ]
     },
     "execution_count": 88,
     "metadata": {},
     "output_type": "execute_result"
    }
   ],
   "source": [
    "query = '''SELECT *FROM employee\n",
    " WHERE salary > (SELECT AVG(salary) FROM employee)'''\n",
    "\n",
    "mycursor.execute(query)\n",
    "list(mycursor)\n"
   ]
  },
  {
   "cell_type": "code",
   "execution_count": null,
   "id": "240122d2-1d42-4697-83f5-841da22da966",
   "metadata": {},
   "outputs": [],
   "source": []
  }
 ],
 "metadata": {
  "kernelspec": {
   "display_name": "Python 3 (ipykernel)",
   "language": "python",
   "name": "python3"
  },
  "language_info": {
   "codemirror_mode": {
    "name": "ipython",
    "version": 3
   },
   "file_extension": ".py",
   "mimetype": "text/x-python",
   "name": "python",
   "nbconvert_exporter": "python",
   "pygments_lexer": "ipython3",
   "version": "3.13.1"
  }
 },
 "nbformat": 4,
 "nbformat_minor": 5
}
